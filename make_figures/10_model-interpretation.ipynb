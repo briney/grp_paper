{
 "cells": [
  {
   "cell_type": "code",
   "execution_count": 1,
   "metadata": {},
   "outputs": [],
   "source": [
    "import os\n",
    "import sys\n",
    "\n",
    "import itertools\n",
    "\n",
    "import pandas as pd\n",
    "\n",
    "import matplotlib.pyplot as plt\n",
    "import seaborn as sns\n",
    "\n",
    "from abutils.utils.pipeline import list_files\n",
    "from abutils.utils.progbar import progress_bar\n",
    "\n",
    "from pygor.models.genmodel import GenModel\n",
    "from pygor.models.entropy import compute_models_DKL, compute_event_DKL\n",
    "\n",
    "# apparently pygor uses a depricated Matplotlib function and produces an insane number of warnings\n",
    "import warnings\n",
    "warnings.filterwarnings('ignore')"
   ]
  },
  {
   "cell_type": "markdown",
   "metadata": {},
   "source": [
    "## Load model data\n",
    "\n",
    "#### subject-specific models"
   ]
  },
  {
   "cell_type": "code",
   "execution_count": 8,
   "metadata": {},
   "outputs": [],
   "source": [
    "subject_dirs = list_files('../data_processing/data/subject-specific_models/')\n",
    "\n",
    "models = []\n",
    "for s in subject_dirs:\n",
    "    params = os.path.join(s, 'final_parms.txt')\n",
    "    marginals = os.path.join(s, 'final_marginals.txt')\n",
    "    model = GenModel(params, marginals)\n",
    "    model.subject = os.path.basename(s)\n",
    "    models.append(model)"
   ]
  },
  {
   "cell_type": "markdown",
   "metadata": {},
   "source": [
    "#### combined-subject model"
   ]
  },
  {
   "cell_type": "code",
   "execution_count": 9,
   "metadata": {},
   "outputs": [],
   "source": [
    "combined_model_path = '../data_processing/data/combined_50k_inference/'\n",
    "params = os.path.join(combined_model_path, 'final_parms.txt')\n",
    "marginals = os.path.join(combined_model_path, 'final_marginals.txt')\n",
    "combined_model = GenModel(params, marginals)"
   ]
  },
  {
   "cell_type": "markdown",
   "metadata": {},
   "source": [
    "#### IGoR's default model"
   ]
  },
  {
   "cell_type": "code",
   "execution_count": 6,
   "metadata": {},
   "outputs": [],
   "source": [
    "default_model_path = '../data_processing/data/default_IGoR_model/'\n",
    "params = os.path.join(default_model_path, 'model_parms.txt')\n",
    "marginals = os.path.join(default_model_path, 'model_marginals.txt')\n",
    "default_model = GenModel(params, marginals)"
   ]
  },
  {
   "cell_type": "markdown",
   "metadata": {},
   "source": [
    "## Entropies (complete model)\n",
    "\n",
    "#### compute pairwise entropy (Kullbeck-Leibler divergence) of the subject-specific models"
   ]
  },
  {
   "cell_type": "code",
   "execution_count": 7,
   "metadata": {},
   "outputs": [
    {
     "name": "stdout",
     "output_type": "stream",
     "text": [
      "(45/45) ||||||||||||||||||||||||||||||||||||||||||||||||||||  100%  \n"
     ]
    }
   ],
   "source": [
    "model_entropies = []\n",
    "subject_model_entropies = {}\n",
    "\n",
    "combinations = list(itertools.combinations(models, 2))\n",
    "\n",
    "for i, (m1, m2) in enumerate(combinations):\n",
    "    progress_bar(i, len(combinations), extra_info=f'{m1.subject}, {m2.subject}        ')\n",
    "    e = compute_models_DKL(m1, m2)\n",
    "    model_entropies.append(e)\n",
    "    if m1.subject not in subject_model_entropies:\n",
    "        subject_model_entropies[m1.subject] = {}\n",
    "    if m2.subject not in subject_model_entropies:\n",
    "        subject_model_entropies[m2.subject] = {}\n",
    "    subject_model_entropies[m1.subject][m2.subject] = e\n",
    "    subject_model_entropies[m2.subject][m1.subject] = e\n",
    "progress_bar(len(combinations), len(combinations), completion_string='\\n')"
   ]
  },
  {
   "cell_type": "markdown",
   "metadata": {},
   "source": [
    "#### compute the pairwise entropy of each subject-specific model and the default model"
   ]
  },
  {
   "cell_type": "code",
   "execution_count": 11,
   "metadata": {},
   "outputs": [
    {
     "name": "stdout",
     "output_type": "stream",
     "text": [
      "(10/10) ||||||||||||||||||||||||||||||||||||||||||||||||||||  100%  \n"
     ]
    }
   ],
   "source": [
    "default_model_entropies = {}\n",
    "\n",
    "for i, m in enumerate(models):\n",
    "    progress_bar(i, len(models), extra_info=f'{m.subject}     ')\n",
    "    default_model_entropies[m.subject] = compute_models_DKL(m, default_model)\n",
    "progress_bar(len(models), len(models), completion_string='\\n')"
   ]
  },
  {
   "cell_type": "markdown",
   "metadata": {},
   "source": [
    "#### compute the pairwise entropy of each subject-specific model with the combined-subject model"
   ]
  },
  {
   "cell_type": "code",
   "execution_count": 14,
   "metadata": {},
   "outputs": [
    {
     "name": "stdout",
     "output_type": "stream",
     "text": [
      "(10/10) ||||||||||||||||||||||||||||||||||||||||||||||||||||  100%  \n"
     ]
    }
   ],
   "source": [
    "combined_model_entropies = {}\n",
    "\n",
    "for i, m in enumerate(models):\n",
    "    progress_bar(i, len(models), extra_info=f'{m.subject}     ')\n",
    "    combined_model_entropies[m.subject] = compute_models_DKL(m, combined_model)\n",
    "progress_bar(len(models), len(models), completion_string='\\n')"
   ]
  },
  {
   "cell_type": "markdown",
   "metadata": {},
   "source": [
    "#### assemble the entropies into a dataframe"
   ]
  },
  {
   "cell_type": "code",
   "execution_count": 22,
   "metadata": {},
   "outputs": [],
   "source": [
    "entropies = []\n",
    "\n",
    "for e in model_entropies:\n",
    "    entropies.append({'entropy': e, 'type': 'subject\\nspecific'})\n",
    "for e in default_model_entropies.values():\n",
    "    entropies.append({'entropy': e, 'type': 'default'})\n",
    "for e in combined_model_entropies.values():\n",
    "    entropies.append({'entropy': e, 'type': 'combined'})\n",
    "    \n",
    "entropy_df = pd.DataFrame(entropies)"
   ]
  },
  {
   "cell_type": "code",
   "execution_count": null,
   "metadata": {},
   "outputs": [],
   "source": []
  },
  {
   "cell_type": "markdown",
   "metadata": {},
   "source": [
    "## Entropies (event-level)"
   ]
  },
  {
   "cell_type": "code",
   "execution_count": 17,
   "metadata": {},
   "outputs": [],
   "source": [
    "event_renames = {'Deletion_D_gene_Five_prime_prio6_size44': \"D-gene trim (5')\",\n",
    "                 'DinucMarkov_VD_genes_Undefined_side_prio3_size16': \"DinucMarkov VD\",\n",
    "                 'Deletion_J_gene_Five_prime_prio5_size27': \"J-gene trim (5')\",\n",
    "                 'Insertion_DJ_gene_Undefined_side_prio2_size61': \"DJ ins length\",\n",
    "                 'Deletion_D_gene_Three_prime_prio6_size44': \"D-gene trim (3')\",\n",
    "                 'GeneChoice_J_gene_Undefined_side_prio7_size7': 'J-gene',\n",
    "                 'Insertion_VD_genes_Undefined_side_prio3_size61': \"VD ins length\",\n",
    "                 'GeneChoice_V_gene_Undefined_side_prio8_size97': 'V-gene',\n",
    "                 'DinucMarkov_DJ_gene_Undefined_side_prio2_size16': 'DinucMarkov DJ',\n",
    "                 'Deletion_V_gene_Three_prime_prio5_size27': \"V-gene trim (3')\",\n",
    "                 'GeneChoice_D_gene_Undefined_side_prio6_size35': 'D-gene'\n",
    "                }"
   ]
  },
  {
   "cell_type": "markdown",
   "metadata": {},
   "source": [
    "#### compute event-level entropies for the subject-specific models"
   ]
  },
  {
   "cell_type": "code",
   "execution_count": 19,
   "metadata": {},
   "outputs": [
    {
     "name": "stdout",
     "output_type": "stream",
     "text": [
      "(45/45) ||||||||||||||||||||||||||||||||||||||||||||||||||||  100%  \n"
     ]
    }
   ],
   "source": [
    "subject_event_entopies = []\n",
    "\n",
    "combinations = list(itertools.combinations(models, 2))\n",
    "\n",
    "for i, (m1, m2) in enumerate(combinations):\n",
    "    progress_bar(i, len(combinations), extra_info=f'{m1.subject}, {m2.subject}        ')\n",
    "    for event in m1.events:\n",
    "        e = compute_event_DKL(event.name, m1, m2)\n",
    "        subject_event_entopies.append({'event': event_renames[event.name], 'entropy': e})\n",
    "progress_bar(len(combinations), len(combinations), completion_string='\\n')\n",
    "        \n",
    "subject_event_entropy_df = pd.DataFrame(subject_event_entopies)"
   ]
  },
  {
   "cell_type": "code",
   "execution_count": null,
   "metadata": {},
   "outputs": [],
   "source": []
  },
  {
   "cell_type": "markdown",
   "metadata": {},
   "source": [
    "## Plots\n",
    "\n",
    "#### complete model entropies"
   ]
  },
  {
   "cell_type": "code",
   "execution_count": 20,
   "metadata": {},
   "outputs": [
    {
     "data": {
      "image/png": "[encoded data removed]",
      "text/plain": [
       "<Figure size 252x288 with 1 Axes>"
      ]
     },
     "metadata": {
      "needs_background": "light"
     },
     "output_type": "display_data"
    }
   ],
   "source": [
    "plt.figure(figsize=[3.5, 4])\n",
    "\n",
    "palette = {'subject\\nspecific': 'b', 'default': 'r', 'combined': 'm'}\n",
    "\n",
    "sns.boxplot(data=entropy_df, x='type', y='entropy', fliersize=0, width=0.5, color='w')\n",
    "sns.stripplot(data=entropy_df, x='type', y='entropy', jitter=True, palette=palette, alpha=0.8)\n",
    "\n",
    "plt.xlabel('')\n",
    "plt.ylabel('combined KL divergence\\n(complete model)', fontsize=12)\n",
    "\n",
    "ax = plt.gca()\n",
    "ax.tick_params(axis='x', which='major', bottom='on', top='off', direction='out', labelsize=11, length=6)\n",
    "ax.tick_params(axis='y', which='major', labelsize=12, length=6, width=1.25, pad=4, right=False)\n",
    "ax.spines['top'].set_visible(False)\n",
    "ax.spines['right'].set_visible(False)\n",
    "ax.spines['left'].set_visible(False)\n",
    "\n",
    "plt.tight_layout()\n",
    "plt.show()"
   ]
  },
  {
   "cell_type": "markdown",
   "metadata": {},
   "source": [
    "#### event-level entropies (subject-specific models)"
   ]
  },
  {
   "cell_type": "code",
   "execution_count": 21,
   "metadata": {},
   "outputs": [
    {
     "data": {
      "image/png": "[encoded data removed]",
      "text/plain": [
       "<Figure size 504x288 with 1 Axes>"
      ]
     },
     "metadata": {
      "needs_background": "light"
     },
     "output_type": "display_data"
    }
   ],
   "source": [
    "plt.figure(figsize=[7, 4])\n",
    "\n",
    "sns.stripplot(data=subject_event_entropy_df, x='event', y='entropy', jitter=True, color='k', alpha=0.7)\n",
    "\n",
    "plt.xticks(rotation=90)\n",
    "plt.xlabel('')\n",
    "plt.ylabel('combined KL divergence', fontsize=13)\n",
    "\n",
    "plt.ylim([-1, 30])\n",
    "\n",
    "ax = plt.gca()\n",
    "ax.tick_params(axis='x', which='major', bottom='on', top='off', direction='out', labelsize=12, length=6)\n",
    "ax.tick_params(axis='y', which='major', labelsize=12, length=6, width=1.25, pad=12, right=False)\n",
    "ax.spines['top'].set_visible(False)\n",
    "ax.spines['right'].set_visible(False)\n",
    "ax.spines['left'].set_visible(False)\n",
    "\n",
    "plt.tight_layout()\n",
    "plt.show()"
   ]
  },
  {
   "cell_type": "code",
   "execution_count": null,
   "metadata": {},
   "outputs": [],
   "source": []
  }
 ],
 "metadata": {
  "kernelspec": {
   "display_name": "Python 3",
   "language": "python",
   "name": "python3"
  },
  "language_info": {
   "codemirror_mode": {
    "name": "ipython",
    "version": 3
   },
   "file_extension": ".py",
   "mimetype": "text/x-python",
   "name": "python",
   "nbconvert_exporter": "python",
   "pygments_lexer": "ipython3",
   "version": "3.6.7"
  }
 },
 "nbformat": 4,
 "nbformat_minor": 2
}
